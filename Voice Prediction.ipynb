{
  "nbformat": 4,
  "nbformat_minor": 0,
  "metadata": {
    "colab": {
      "provenance": []
    },
    "kernelspec": {
      "name": "python3",
      "display_name": "Python 3"
    },
    "language_info": {
      "name": "python"
    }
  },
  "cells": [
    {
      "cell_type": "code",
      "source": [
        "from google.colab import drive\n",
        "drive.mount('/content/drive')"
      ],
      "metadata": {
        "colab": {
          "base_uri": "https://localhost:8080/"
        },
        "id": "Restt-tQ9sZi",
        "outputId": "92e89d3f-ecac-4e9b-a625-2e9f623e1e07"
      },
      "execution_count": 1,
      "outputs": [
        {
          "output_type": "stream",
          "name": "stdout",
          "text": [
            "Mounted at /content/drive\n"
          ]
        }
      ]
    },
    {
      "cell_type": "code",
      "source": [
        "!pip install gradio"
      ],
      "metadata": {
        "id": "nxe9jYel99J7"
      },
      "execution_count": null,
      "outputs": []
    },
    {
      "cell_type": "code",
      "source": [
        "!pip install python_speech_features"
      ],
      "metadata": {
        "id": "hDVs_nX3-CzJ"
      },
      "execution_count": null,
      "outputs": []
    },
    {
      "cell_type": "code",
      "source": [
        "from python_speech_features import mfcc\n",
        "import scipy.io.wavfile as wav\n",
        "import numpy as np\n",
        "from tempfile import TemporaryFile\n",
        "import os\n",
        "import pickle\n",
        "import random\n",
        "import operator\n",
        "import math\n",
        "from collections import defaultdict"
      ],
      "metadata": {
        "id": "W-B8GnWR9sWJ"
      },
      "execution_count": 4,
      "outputs": []
    },
    {
      "cell_type": "code",
      "source": [
        "def getNeighbors(trainingSet , instance , k):\n",
        "    distances =[]\n",
        "    for x in range (len(trainingSet)):\n",
        "        dist = distance(trainingSet[x], instance, k )+ distance(instance, trainingSet[x], k)\n",
        "        distances.append((trainingSet[x][2], dist))\n",
        "    distances.sort(key=operator.itemgetter(1))\n",
        "    neighbors = []\n",
        "    for x in range(k):\n",
        "        neighbors.append(distances[x][0])\n",
        "    return neighbors\n",
        "\n",
        "def nearestClass(neighbors):\n",
        "    classVote ={}\n",
        "    for x in range(len(neighbors)):\n",
        "        response = neighbors[x]\n",
        "        if response in classVote:\n",
        "            classVote[response]+=1\n",
        "        else:\n",
        "            classVote[response]=1\n",
        "    sorter = sorted(classVote.items(), key = operator.itemgetter(1), reverse=True)\n",
        "    return sorter[0][0]\n",
        "\n",
        "def distance(instance1 , instance2 , k ):\n",
        "    distance =0\n",
        "    mm1 = instance1[0]\n",
        "    cm1 = instance1[1]\n",
        "    mm2 = instance2[0]\n",
        "    cm2 = instance2[1]\n",
        "    distance = np.trace(np.dot(np.linalg.inv(cm2), cm1))\n",
        "    distance+=(np.dot(np.dot((mm2-mm1).transpose() , np.linalg.inv(cm2)) , mm2-mm1 ))\n",
        "    distance+= np.log(np.linalg.det(cm2)) - np.log(np.linalg.det(cm1))\n",
        "    distance-= k\n",
        "    return distance\n",
        ""
      ],
      "metadata": {
        "id": "EaEPXUJT-3UA"
      },
      "execution_count": 5,
      "outputs": []
    },
    {
      "cell_type": "code",
      "execution_count": 13,
      "metadata": {
        "id": "Dbtv59CC9bur"
      },
      "outputs": [],
      "source": [
        "dataset = []\n",
        "def loadDataset(filename , split , trSet , teSet):\n",
        "    with open(f'/content/drive/MyDrive/test/extract_feature.dat' , 'rb') as f:\n",
        "        while True:\n",
        "            try:\n",
        "                dataset.append(pickle.load(f))\n",
        "            except EOFError:\n",
        "                f.close()\n",
        "                break\n",
        "\n",
        "    for x in range(len(dataset)):\n",
        "        if random.random() <split :\n",
        "            trSet.append(dataset[x])\n",
        "        else:\n",
        "            teSet.append(dataset[x])\n",
        "\n",
        "trainSet = []\n",
        "testSet = []\n",
        "loadDataset(f'/content/drive/MyDrive/test/extract_feature.dat' , 0.70, trainSet, testSet)\n",
        "\n",
        "leng = len(testSet)\n",
        "predict = []\n",
        "for x in range (leng):\n",
        "    predict.append(nearestClass(getNeighbors(trainSet ,testSet[x] , 5)))"
      ]
    },
    {
      "cell_type": "code",
      "source": [
        "import gradio as gr\n",
        "\n",
        "def process_audio(audio):\n",
        "\n",
        "    #Prediction for new data\n",
        "    results=defaultdict(int)\n",
        "    i=1\n",
        "    for folder in os.listdir( f'/content/drive/MyDrive/cluster'):\n",
        "        results[i]=folder\n",
        "        i+=1\n",
        "    #print(results)\n",
        "    (rate,sig)=wav.read(audio)\n",
        "    mfcc_feat=mfcc(sig,rate,winlen=0.020,appendEnergy=False)\n",
        "    covariance = np.cov(np.matrix.transpose(mfcc_feat))\n",
        "    mean_matrix = mfcc_feat.mean(0)\n",
        "    feature=(mean_matrix,covariance,0)\n",
        "\n",
        "    pred=nearestClass(getNeighbors(dataset ,feature , 5))\n",
        "\n",
        "    return results[pred]\n"
      ],
      "metadata": {
        "id": "B_4Eg-_p92SZ"
      },
      "execution_count": 14,
      "outputs": []
    },
    {
      "cell_type": "code",
      "source": [
        "inputs = gr.inputs.Audio(type='filepath')\n",
        "output = gr.outputs.Textbox()\n"
      ],
      "metadata": {
        "colab": {
          "base_uri": "https://localhost:8080/"
        },
        "id": "srOfJ0Iy92Pf",
        "outputId": "cc91d15f-6355-492c-d31f-c14387b31161"
      },
      "execution_count": 15,
      "outputs": [
        {
          "output_type": "stream",
          "name": "stderr",
          "text": [
            "/usr/local/lib/python3.10/dist-packages/gradio/inputs.py:321: UserWarning: Usage of gradio.inputs is deprecated, and will not be supported in the future, please import your components from gradio.components\n",
            "  warnings.warn(\n",
            "/usr/local/lib/python3.10/dist-packages/gradio/inputs.py:324: UserWarning: `optional` parameter is deprecated, and it has no effect\n",
            "  super().__init__(source=source, type=type, label=label, optional=optional)\n",
            "/usr/local/lib/python3.10/dist-packages/gradio/outputs.py:22: UserWarning: Usage of gradio.outputs is deprecated, and will not be supported in the future, please import your components from gradio.components\n",
            "  warnings.warn(\n"
          ]
        }
      ]
    },
    {
      "cell_type": "code",
      "source": [
        "gr.Interface(fn=process_audio, inputs=inputs, outputs=output).launch(share=True, debug=True)"
      ],
      "metadata": {
        "colab": {
          "base_uri": "https://localhost:8080/",
          "height": 591
        },
        "id": "fisXTGE492NJ",
        "outputId": "affa36e3-0c81-480a-e4b5-2257d3f1a2f6"
      },
      "execution_count": null,
      "outputs": [
        {
          "output_type": "stream",
          "name": "stdout",
          "text": [
            "Colab notebook detected. This cell will run indefinitely so that you can see errors and logs. To turn off, set debug=False in launch().\n",
            "Running on public URL: https://07c5f3dc7d67cbc887.gradio.live\n",
            "\n",
            "This share link expires in 72 hours. For free permanent hosting and GPU upgrades, run `gradio deploy` from Terminal to deploy to Spaces (https://huggingface.co/spaces)\n"
          ]
        },
        {
          "output_type": "display_data",
          "data": {
            "text/plain": [
              "<IPython.core.display.HTML object>"
            ],
            "text/html": [
              "<div><iframe src=\"https://07c5f3dc7d67cbc887.gradio.live\" width=\"100%\" height=\"500\" allow=\"autoplay; camera; microphone; clipboard-read; clipboard-write;\" frameborder=\"0\" allowfullscreen></iframe></div>"
            ]
          },
          "metadata": {}
        }
      ]
    },
    {
      "cell_type": "code",
      "source": [],
      "metadata": {
        "id": "3gCMHb_K-8nu"
      },
      "execution_count": null,
      "outputs": []
    }
  ]
}